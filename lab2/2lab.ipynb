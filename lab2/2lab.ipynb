{
 "cells": [
  {
   "cell_type": "code",
   "execution_count": 25,
   "id": "38091407-e804-4da2-85f3-a46b557b8565",
   "metadata": {},
   "outputs": [],
   "source": [
    "import pyspark\n",
    "import os\n",
    "\n",
    "from datetime import datetime\n",
    "from pyspark.sql.functions import col\n",
    "from pyspark.sql import SparkSession\n",
    "from pyspark.sql.types import StructType, StructField, StringType, DateType\n",
    "from pyspark import SparkContext, SparkConf"
   ]
  },
  {
   "cell_type": "code",
   "execution_count": 26,
   "id": "19fb1887-ae10-4d73-963c-7dba2c934f9d",
   "metadata": {},
   "outputs": [],
   "source": [
    "os.environ['PYSPARK_SUBMIT_ARGS'] = '--packages com.databricks:spark-xml_2.12:0.13.0 pyspark-shell'"
   ]
  },
  {
   "cell_type": "code",
   "execution_count": 27,
   "id": "b65e3e69-a34e-4f18-a915-54c38991955e",
   "metadata": {},
   "outputs": [],
   "source": [
    "sc = SparkSession.builder.appName(\"2lab\").master(\"yarn\").getOrCreate()"
   ]
  },
  {
   "cell_type": "code",
   "execution_count": 46,
   "id": "3c2843d8-db63-4b26-8fcf-740d57ff6a0c",
   "metadata": {},
   "outputs": [
    {
     "name": "stdout",
     "output_type": "stream",
     "text": [
      "put: `2lab.ipynb': File exists\n",
      "put: `hs_err_pid16302.log': File exists\n",
      "put: `posts_sample.xml': File exists\n",
      "put: `programming-languages.csv': File exists\n"
     ]
    }
   ],
   "source": [
    "!hadoop fs -put * ."
   ]
  },
  {
   "cell_type": "code",
   "execution_count": 28,
   "id": "5f56722b-8c17-41af-b769-3a2e857f666c",
   "metadata": {},
   "outputs": [],
   "source": [
    "prog_lang = sc.read.csv(\"2lab/programming-languages.csv\")\n",
    "posts_sample = sc.read.format(\"xml\").options(rowTag=\"row\").load('2lab/posts_sample.xml')"
   ]
  },
  {
   "cell_type": "code",
   "execution_count": 29,
   "id": "dd677574-bd07-48ba-82a8-8d6639165416",
   "metadata": {},
   "outputs": [
    {
     "data": {
      "text/plain": [
       "Row(_c0='name', _c1='wikipedia_url')"
      ]
     },
     "execution_count": 29,
     "metadata": {},
     "output_type": "execute_result"
    }
   ],
   "source": [
    "prog_lang.first()"
   ]
  },
  {
   "cell_type": "code",
   "execution_count": 30,
   "id": "af3826b5-1059-4f66-95cd-b404d18bbad5",
   "metadata": {},
   "outputs": [
    {
     "data": {
      "text/plain": [
       "Row(_AcceptedAnswerId=7, _AnswerCount=13, _Body=\"<p>I want to use a track-bar to change a form's opacity.</p>\\n\\n<p>This is my code:</p>\\n\\n<pre><code>decimal trans = trackBar1.Value / 5000;\\nthis.Opacity = trans;\\n</code></pre>\\n\\n<p>When I build the application, it gives the following error:</p>\\n\\n<blockquote>\\n  <p>Cannot implicitly convert type <code>'decimal'</code> to <code>'double'</code></p>\\n</blockquote>\\n\\n<p>I tried using <code>trans</code> and <code>double</code> but then the control doesn't work. This code worked fine in a past VB.NET project.</p>\\n\", _ClosedDate=None, _CommentCount=2, _CommunityOwnedDate=datetime.datetime(2012, 10, 31, 20, 42, 47, 213000), _CreationDate=datetime.datetime(2008, 8, 1, 2, 42, 52, 667000), _FavoriteCount=48, _Id=4, _LastActivityDate=datetime.datetime(2019, 7, 19, 5, 39, 54, 173000), _LastEditDate=datetime.datetime(2019, 7, 19, 5, 39, 54, 173000), _LastEditorDisplayName='Rich B', _LastEditorUserId=3641067, _OwnerDisplayName=None, _OwnerUserId=8, _ParentId=None, _PostTypeId=1, _Score=630, _Tags='<c#><floating-point><type-conversion><double><decimal>', _Title='Convert Decimal to Double?', _ViewCount=42817)"
      ]
     },
     "execution_count": 30,
     "metadata": {},
     "output_type": "execute_result"
    }
   ],
   "source": [
    "posts_sample.first()"
   ]
  },
  {
   "cell_type": "code",
   "execution_count": 31,
   "id": "d0c2ad85-f56a-4cb3-b15c-4ae553a37a7c",
   "metadata": {},
   "outputs": [
    {
     "data": {
      "text/plain": [
       "['name', 'A# .NET', 'A# (Axiom)', 'A-0 System', 'A+', 'A++', 'ABAP']"
      ]
     },
     "execution_count": 31,
     "metadata": {},
     "output_type": "execute_result"
    }
   ],
   "source": [
    "prog_lang_list = [str(x[0]) for x in prog_lang.collect()]\n",
    "prog_lang_list[:7]"
   ]
  },
  {
   "cell_type": "code",
   "execution_count": 8,
   "id": "90ceedd5-4e03-4880-ade6-cf4dd77464ba",
   "metadata": {},
   "outputs": [],
   "source": []
  },
  {
   "cell_type": "code",
   "execution_count": 32,
   "id": "ab702a13-a839-42b1-8935-97c697b9c51c",
   "metadata": {},
   "outputs": [
    {
     "name": "stdout",
     "output_type": "stream",
     "text": [
      "+-----------+-----------------+\n",
      "|         PL|Mentioned_in_2010|\n",
      "+-----------+-----------------+\n",
      "|       Java|               52|\n",
      "|        PHP|               46|\n",
      "| JavaScript|               44|\n",
      "|     Python|               26|\n",
      "|Objective-C|               22|\n",
      "|          C|               20|\n",
      "|       Ruby|               12|\n",
      "|     Delphi|                8|\n",
      "|AppleScript|                3|\n",
      "|          R|                3|\n",
      "+-----------+-----------------+\n",
      "\n",
      "+-----------+-----------------+\n",
      "|         PL|Mentioned_in_2011|\n",
      "+-----------+-----------------+\n",
      "|        PHP|              102|\n",
      "|       Java|               93|\n",
      "| JavaScript|               83|\n",
      "|     Python|               37|\n",
      "|Objective-C|               34|\n",
      "|          C|               24|\n",
      "|       Ruby|               20|\n",
      "|       Perl|                9|\n",
      "|     Delphi|                8|\n",
      "|       Bash|                7|\n",
      "+-----------+-----------------+\n",
      "\n",
      "+-----------+-----------------+\n",
      "|         PL|Mentioned_in_2012|\n",
      "+-----------+-----------------+\n",
      "|        PHP|              154|\n",
      "| JavaScript|              132|\n",
      "|       Java|              124|\n",
      "|     Python|               69|\n",
      "|Objective-C|               45|\n",
      "|       Ruby|               27|\n",
      "|          C|               27|\n",
      "|       Bash|               10|\n",
      "|          R|                9|\n",
      "|     MATLAB|                6|\n",
      "+-----------+-----------------+\n",
      "\n",
      "+-----------+-----------------+\n",
      "|         PL|Mentioned_in_2013|\n",
      "+-----------+-----------------+\n",
      "| JavaScript|              198|\n",
      "|        PHP|              198|\n",
      "|       Java|              194|\n",
      "|     Python|               90|\n",
      "|Objective-C|               40|\n",
      "|          C|               36|\n",
      "|       Ruby|               32|\n",
      "|          R|               26|\n",
      "|       Bash|               12|\n",
      "|      Scala|               11|\n",
      "+-----------+-----------------+\n",
      "\n",
      "+-----------+-----------------+\n",
      "|         PL|Mentioned_in_2014|\n",
      "+-----------+-----------------+\n",
      "| JavaScript|              239|\n",
      "|       Java|              228|\n",
      "|        PHP|              167|\n",
      "|     Python|              109|\n",
      "|Objective-C|               52|\n",
      "|          C|               52|\n",
      "|          R|               28|\n",
      "|       Ruby|               24|\n",
      "|       Bash|               17|\n",
      "|     MATLAB|               17|\n",
      "+-----------+-----------------+\n",
      "\n",
      "+-----------+-----------------+\n",
      "|         PL|Mentioned_in_2015|\n",
      "+-----------+-----------------+\n",
      "| JavaScript|              275|\n",
      "|       Java|              209|\n",
      "|        PHP|              167|\n",
      "|     Python|              121|\n",
      "|          R|               43|\n",
      "|          C|               38|\n",
      "|Objective-C|               30|\n",
      "|       Ruby|               20|\n",
      "|     MATLAB|               16|\n",
      "|      Scala|               15|\n",
      "+-----------+-----------------+\n",
      "\n",
      "+----------+-----------------+\n",
      "|        PL|Mentioned_in_2016|\n",
      "+----------+-----------------+\n",
      "|JavaScript|              277|\n",
      "|      Java|              183|\n",
      "|       PHP|              155|\n",
      "|    Python|              145|\n",
      "|         R|               52|\n",
      "|         C|               32|\n",
      "|      Ruby|               24|\n",
      "|      Bash|               18|\n",
      "|     Scala|               16|\n",
      "|    MATLAB|               15|\n",
      "+----------+-----------------+\n",
      "\n",
      "+-----------+-----------------+\n",
      "|         PL|Mentioned_in_2017|\n",
      "+-----------+-----------------+\n",
      "| JavaScript|              246|\n",
      "|       Java|              204|\n",
      "|     Python|              193|\n",
      "|        PHP|              138|\n",
      "|          R|               56|\n",
      "|          C|               25|\n",
      "| TypeScript|               20|\n",
      "|Objective-C|               19|\n",
      "|       Ruby|               17|\n",
      "| PowerShell|               14|\n",
      "+-----------+-----------------+\n",
      "\n",
      "+----------+-----------------+\n",
      "|        PL|Mentioned_in_2018|\n",
      "+----------+-----------------+\n",
      "|    Python|              220|\n",
      "|JavaScript|              196|\n",
      "|      Java|              146|\n",
      "|       PHP|              111|\n",
      "|         R|               66|\n",
      "|TypeScript|               27|\n",
      "|         C|               24|\n",
      "|     Scala|               23|\n",
      "|PowerShell|               13|\n",
      "|      Bash|               12|\n",
      "+----------+-----------------+\n",
      "\n",
      "+----------+-----------------+\n",
      "|        PL|Mentioned_in_2019|\n",
      "+----------+-----------------+\n",
      "|    Python|              166|\n",
      "|JavaScript|              135|\n",
      "|      Java|               95|\n",
      "|       PHP|               65|\n",
      "|         R|               37|\n",
      "|TypeScript|               17|\n",
      "|         C|               14|\n",
      "|      Bash|               11|\n",
      "|    MATLAB|                9|\n",
      "|        Go|                9|\n",
      "+----------+-----------------+\n",
      "\n"
     ]
    }
   ],
   "source": [
    "pl_by_year = {}\n",
    "\n",
    "for year in range(2010, 2020):\n",
    "    pl_by_year[year] = posts_sample.rdd \\\n",
    "        .filter(lambda x: x._Tags is not None and datetime(year=year, month=1, day=1) <= x._CreationDate <= datetime(year=year, month=12, day=31)) \\\n",
    "        .flatMap(lambda x: [(x._Id, language) for language in prog_lang_list if \"<\" + language.lower() + \">\" in x._Tags.lower()]) \\\n",
    "        .keyBy(lambda x: x[1]) \\\n",
    "        .aggregateByKey(0, lambda x, y: x + 1, lambda x, y: x + y) \\\n",
    "        .sortBy(lambda x: x[1], ascending=False) \\\n",
    "        .toDF()\n",
    "\n",
    "    pl_by_year[year] = pl_by_year[year] \\\n",
    "        .select(col(\"_1\").alias(\"PL\"), col(\"_2\").alias(f\"Mentioned_in_{year}\")) \\\n",
    "        .limit(10)\n",
    "\n",
    "    pl_by_year[year].show()"
   ]
  },
  {
   "cell_type": "code",
   "execution_count": 33,
   "id": "1afb9651-f03c-46f1-a1da-fa7f9c0ef378",
   "metadata": {},
   "outputs": [],
   "source": [
    "for i in pl_by_year.keys():\n",
    "    pl_by_year[i].write.format(\"parquet\").save(f\"2lab/pl_by_{i}\")"
   ]
  },
  {
   "cell_type": "code",
   "execution_count": 34,
   "id": "fc5f5cd9-e63a-4724-a5fd-05fd9b18d4a7",
   "metadata": {},
   "outputs": [],
   "source": [
    "!hadoop fs -get /user/cordanius/2lab ~/lab2"
   ]
  },
  {
   "cell_type": "code",
   "execution_count": 24,
   "id": "8e5f0407-eff6-4e32-bbd9-be1802962fbb",
   "metadata": {},
   "outputs": [],
   "source": [
    "sc.stop()"
   ]
  },
  {
   "cell_type": "code",
   "execution_count": null,
   "id": "ad926747-5677-4501-aec2-d209c32578ea",
   "metadata": {},
   "outputs": [],
   "source": []
  }
 ],
 "metadata": {
  "kernelspec": {
   "display_name": "Python 3",
   "language": "python",
   "name": "python3"
  },
  "language_info": {
   "codemirror_mode": {
    "name": "ipython",
    "version": 3
   },
   "file_extension": ".py",
   "mimetype": "text/x-python",
   "name": "python",
   "nbconvert_exporter": "python",
   "pygments_lexer": "ipython3",
   "version": "3.9.5"
  }
 },
 "nbformat": 4,
 "nbformat_minor": 5
}
