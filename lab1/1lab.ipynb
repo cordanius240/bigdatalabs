{
 "cells": [
  {
   "cell_type": "code",
   "execution_count": 59,
   "id": "9e6f2e0c-5a1a-4662-98f6-32c14bf76167",
   "metadata": {},
   "outputs": [],
   "source": [
    "from pyspark import SparkContext, SparkConf \n",
    "from pyspark.sql import SparkSession\n",
    "import pyspark.sql as sql\n",
    "from typing import NamedTuple\n",
    "from datetime import datetime"
   ]
  },
  {
   "cell_type": "code",
   "execution_count": 60,
   "id": "d6621e29-4c52-4212-8e4a-04a2e7414314",
   "metadata": {},
   "outputs": [],
   "source": [
    "conf = SparkConf().setAppName(\"L1_interactive_bike_kolp\").setMaster('yarn')"
   ]
  },
  {
   "cell_type": "markdown",
   "id": "756ef448-e217-4b21-88cb-f8ee07d28ab8",
   "metadata": {},
   "source": [
    "Из файла L1_noninteractive_bike_analysis_python.py из репозитории лабораторной работы "
   ]
  },
  {
   "cell_type": "code",
   "execution_count": 62,
   "id": "20801c3c-1d7c-4b35-88a4-7df82daf0d0f",
   "metadata": {},
   "outputs": [],
   "source": [
    "def initStation(stations):\n",
    "    class Station(NamedTuple):\n",
    "        station_id: int\n",
    "        name: str\n",
    "        lat: float\n",
    "        long: float\n",
    "        dockcount: int\n",
    "        landmark: str\n",
    "        installation: str\n",
    "    \n",
    "    for station in stations:\n",
    "        yield Station(\n",
    "            station_id = int(station[0]),\n",
    "            name = station[1],\n",
    "            lat = float(station[2]),\n",
    "            long = float(station[3]),\n",
    "            dockcount = int(station[4]),\n",
    "            landmark = station[5],\n",
    "            installation = datetime.strptime(station[6], '%m/%d/%Y')\n",
    "        )\n",
    "\n",
    "def initTrip(trips):\n",
    "    class Trip(NamedTuple):\n",
    "        trip_id: int\n",
    "        duration: int\n",
    "        start_date: datetime\n",
    "        start_station_name: str\n",
    "        start_station_id: int\n",
    "        end_date: datetime\n",
    "        end_station_name: str\n",
    "        end_station_id: int\n",
    "        bike_id: int\n",
    "        subscription_type: str\n",
    "        zip_code: str\n",
    "        \n",
    "    for trip in trips:\n",
    "        try:\n",
    "            yield Trip(                             \n",
    "             trip_id = int(trip[0]),\n",
    "             duration = int(trip[1]),\n",
    "             start_date = datetime.strptime(trip[2], '%m/%d/%Y %H:%M'),\n",
    "             start_station_name = trip[3],\n",
    "             start_station_id = int(trip[4]),\n",
    "             end_date = datetime.strptime(trip[5], '%m/%d/%Y %H:%M'),\n",
    "             end_station_name = trip[6],\n",
    "             end_station_id = trip[7],\n",
    "             bike_id = int(trip[8]),\n",
    "             subscription_type = trip[9],\n",
    "             zip_code = trip[10]\n",
    "            ) \n",
    "        except:\n",
    "            pass"
   ]
  },
  {
   "cell_type": "code",
   "execution_count": 63,
   "id": "9f962636-b491-4032-a13d-ff6ad65c3331",
   "metadata": {},
   "outputs": [],
   "source": [
    "sc = SparkContext(conf=conf)\n",
    "spark = SparkSession(sc)"
   ]
  },
  {
   "cell_type": "code",
   "execution_count": 64,
   "id": "5f147908-f35e-4c2f-aa86-6dc7aa7a2c10",
   "metadata": {},
   "outputs": [],
   "source": [
    "trip = sc.textFile(\"trip.csv\")\n",
    "station = sc.textFile(\"station.csv\")"
   ]
  },
  {
   "cell_type": "code",
   "execution_count": 65,
   "id": "eef704a4-7ec1-4be8-a5ba-46cc8f368619",
   "metadata": {},
   "outputs": [
    {
     "data": {
      "text/plain": [
       "['id,duration,start_date,start_station_name,start_station_id,end_date,end_station_name,end_station_id,bike_id,subscription_type,zip_code',\n",
       " '4576,63,8/29/2013 14:13,South Van Ness at Market,66,8/29/2013 14:14,South Van Ness at Market,66,520,Subscriber,94127',\n",
       " '4607,70,8/29/2013 14:42,San Jose City Hall,10,8/29/2013 14:43,San Jose City Hall,10,661,Subscriber,95138',\n",
       " '4130,71,8/29/2013 10:16,Mountain View City Hall,27,8/29/2013 10:17,Mountain View City Hall,27,48,Subscriber,97214',\n",
       " '4251,77,8/29/2013 11:29,San Jose City Hall,10,8/29/2013 11:30,San Jose City Hall,10,26,Subscriber,95060']"
      ]
     },
     "execution_count": 65,
     "metadata": {},
     "output_type": "execute_result"
    }
   ],
   "source": [
    "trip.take(5)"
   ]
  },
  {
   "cell_type": "code",
   "execution_count": 66,
   "id": "c5f2c3f3-d6e9-4cfe-a51d-2a1554853aea",
   "metadata": {},
   "outputs": [
    {
     "data": {
      "text/plain": [
       "'id,duration,start_date,start_station_name,start_station_id,end_date,end_station_name,end_station_id,bike_id,subscription_type,zip_code'"
      ]
     },
     "execution_count": 66,
     "metadata": {},
     "output_type": "execute_result"
    }
   ],
   "source": [
    "trip.first()"
   ]
  },
  {
   "cell_type": "code",
   "execution_count": 67,
   "id": "8fcf9e7a-efb5-4a30-981b-ac29701135a5",
   "metadata": {},
   "outputs": [],
   "source": [
    "trip_header=trip.first()\n",
    "station_header=station.first()\n",
    "trip=trip.filter(lambda x: x != trip_header).map(lambda x: x.split(\",\"))\n",
    "station=station.filter(lambda x: x != station_header).map(lambda x: x.split(\",\"))"
   ]
  },
  {
   "cell_type": "code",
   "execution_count": 68,
   "id": "212c7fcf-4277-4ed3-81be-0c5f633856cb",
   "metadata": {},
   "outputs": [],
   "source": [
    "trip_mp = trip.mapPartitions(initTrip)\n",
    "station_mp = station.mapPartitions(initStation)"
   ]
  },
  {
   "cell_type": "code",
   "execution_count": 69,
   "id": "fc27238a-5858-4a61-a2de-a6b1e58808f4",
   "metadata": {},
   "outputs": [
    {
     "data": {
      "text/plain": [
       "Trip(trip_id=4576, duration=63, start_date=datetime.datetime(2013, 8, 29, 14, 13), start_station_name='South Van Ness at Market', start_station_id=66, end_date=datetime.datetime(2013, 8, 29, 14, 14), end_station_name='South Van Ness at Market', end_station_id='66', bike_id=520, subscription_type='Subscriber', zip_code='94127')"
      ]
     },
     "execution_count": 69,
     "metadata": {},
     "output_type": "execute_result"
    }
   ],
   "source": [
    "trip_mp.first()"
   ]
  },
  {
   "cell_type": "markdown",
   "id": "6ca036c8-99c0-4b09-ab05-85342c7b1072",
   "metadata": {},
   "source": [
    "Найти велосипед с максимальным временем пробега."
   ]
  },
  {
   "cell_type": "code",
   "execution_count": 71,
   "id": "34cfd0d3-a1be-45f1-95ad-90d12a52e569",
   "metadata": {},
   "outputs": [
    {
     "data": {
      "text/plain": [
       "535"
      ]
     },
     "execution_count": 71,
     "metadata": {},
     "output_type": "execute_result"
    }
   ],
   "source": [
    "bike_max_time = trip_mp \\\n",
    ".map(lambda trip: (trip.bike_id, trip.duration)) \\\n",
    ".reduceByKey(lambda a, b: a + b) \\\n",
    ".top(1, key = lambda x: x[1])[0][0]\n",
    "\n",
    "bike_max_time"
   ]
  },
  {
   "cell_type": "markdown",
   "id": "32bce0d7-ba5a-4dba-99d1-f1d9a1758718",
   "metadata": {},
   "source": [
    "Найти наибольшее геодезическое расстояние между станциями."
   ]
  },
  {
   "cell_type": "code",
   "execution_count": 74,
   "id": "22c6231e-7a47-4e83-927d-ac63fe7ea40e",
   "metadata": {},
   "outputs": [
    {
     "data": {
      "text/plain": [
       "(16, 60, 0.7058482821754397)"
      ]
     },
     "execution_count": 74,
     "metadata": {},
     "output_type": "execute_result"
    }
   ],
   "source": [
    "station_distances = station_mp \\\n",
    ".cartesian(station_mp) \\\n",
    ".map(lambda pair: (pair[0].station_id, \n",
    "                   pair[1].station_id, \n",
    "                   ((pair[0].lat - pair[1].lat)**2 + (pair[0].long - pair[1].long)**2)**0.5)) \\\n",
    ".top(1, key=lambda x: x[2])[0]\n",
    "\n",
    "station_distances"
   ]
  },
  {
   "cell_type": "markdown",
   "id": "cf236d16-a43c-482b-ad93-a7ea5c59e7c6",
   "metadata": {},
   "source": [
    "Найти путь велосипеда с максимальным временем пробега через станции."
   ]
  },
  {
   "cell_type": "code",
   "execution_count": 55,
   "id": "a37bc6c7-ba4e-46bd-acd5-9cc94d81ddd3",
   "metadata": {},
   "outputs": [
    {
     "data": {
      "text/plain": [
       "('Post at Kearney', 'San Francisco Caltrain (Townsend at 4th)')"
      ]
     },
     "execution_count": 55,
     "metadata": {},
     "output_type": "execute_result"
    }
   ],
   "source": [
    "result = trip_mp \\\n",
    ".filter(lambda x: x.bike_id == bike_max_time) \\\n",
    ".sortBy(lambda x: x.start_date) \\\n",
    ".map(lambda x: (x.start_station_name, x.end_station_name)) \\\n",
    ".first() \n",
    "\n",
    "result"
   ]
  },
  {
   "cell_type": "markdown",
   "id": "f8789ee6-6fd4-4677-9861-aceb94fce06b",
   "metadata": {},
   "source": [
    "Найти количество велосипедов в системе."
   ]
  },
  {
   "cell_type": "code",
   "execution_count": 56,
   "id": "965c0073-8fda-4d74-8f22-f2a96facfb46",
   "metadata": {},
   "outputs": [
    {
     "data": {
      "text/plain": [
       "700"
      ]
     },
     "execution_count": 56,
     "metadata": {},
     "output_type": "execute_result"
    }
   ],
   "source": [
    "amount = trip_mp \\\n",
    ".map(lambda x: x.bike_id) \\\n",
    ".distinct() \\\n",
    ".count()\n",
    "\n",
    "amount"
   ]
  },
  {
   "cell_type": "markdown",
   "id": "8678a6cc-fe79-4461-94ed-cfad2eedcb1a",
   "metadata": {},
   "source": [
    "Найти пользователей потративших на поездки более 3 часов."
   ]
  },
  {
   "cell_type": "code",
   "execution_count": 76,
   "id": "a6d5b5e6-652c-46a7-a0fc-568d2e5f3953",
   "metadata": {},
   "outputs": [
    {
     "data": {
      "text/plain": [
       "['94306', '49423', '49721']"
      ]
     },
     "execution_count": 76,
     "metadata": {},
     "output_type": "execute_result"
    }
   ],
   "source": [
    "users3h = trip_mp \\\n",
    ".filter(lambda x: x.duration > (3 * 60 * 60)) \\\n",
    ".map(lambda x: x.zip_code) \\\n",
    ".filter(lambda x: x != \"\") \\\n",
    ".distinct() \n",
    "\n",
    "users3h.take(3)"
   ]
  },
  {
   "cell_type": "code",
   "execution_count": 77,
   "id": "795d36ef-1f12-4482-8987-541e133629f4",
   "metadata": {},
   "outputs": [],
   "source": [
    "sc.stop()"
   ]
  }
 ],
 "metadata": {
  "kernelspec": {
   "display_name": "Python 3",
   "language": "python",
   "name": "python3"
  },
  "language_info": {
   "codemirror_mode": {
    "name": "ipython",
    "version": 3
   },
   "file_extension": ".py",
   "mimetype": "text/x-python",
   "name": "python",
   "nbconvert_exporter": "python",
   "pygments_lexer": "ipython3",
   "version": "3.9.5"
  },
  "toc-showtags": true
 },
 "nbformat": 4,
 "nbformat_minor": 5
}
